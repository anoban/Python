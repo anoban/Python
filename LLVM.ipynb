{
 "cells": [
  {
   "cell_type": "code",
   "execution_count": 6,
   "id": "ea7f3fe2-55e6-4a52-9eba-ec3cfa866169",
   "metadata": {
    "execution": {
     "iopub.execute_input": "2023-02-27T00:26:25.056794Z",
     "iopub.status.busy": "2023-02-27T00:26:25.055788Z",
     "iopub.status.idle": "2023-02-27T00:26:25.060282Z",
     "shell.execute_reply": "2023-02-27T00:26:25.060282Z",
     "shell.execute_reply.started": "2023-02-27T00:26:25.056794Z"
    },
    "tags": []
   },
   "outputs": [],
   "source": [
    "from urllib import request\n",
    "from bs4 import BeautifulSoup\n",
    "import re"
   ]
  },
  {
   "cell_type": "code",
   "execution_count": 24,
   "id": "a532809a-807c-446a-bdb2-e4307fd6a8bf",
   "metadata": {
    "execution": {
     "iopub.execute_input": "2023-02-27T00:44:02.956503Z",
     "iopub.status.busy": "2023-02-27T00:44:02.955499Z",
     "iopub.status.idle": "2023-02-27T00:44:04.848912Z",
     "shell.execute_reply": "2023-02-27T00:44:04.846885Z",
     "shell.execute_reply.started": "2023-02-27T00:44:02.956503Z"
    },
    "tags": []
   },
   "outputs": [],
   "source": [
    "LLVM_RELEASE_PAGE = r\"https://github.com/llvm/llvm-project/releases\"\n",
    "\n",
    "with request.urlopen(LLVM_RELEASE_PAGE) as req:\n",
    "    page = str(req.read())"
   ]
  },
  {
   "cell_type": "code",
   "execution_count": 158,
   "id": "06832dad-c7e5-4791-a6e6-ceb010dc6551",
   "metadata": {
    "execution": {
     "iopub.execute_input": "2023-02-27T02:22:11.951848Z",
     "iopub.status.busy": "2023-02-27T02:22:11.951848Z",
     "iopub.status.idle": "2023-02-27T02:22:11.956944Z",
     "shell.execute_reply": "2023-02-27T02:22:11.956944Z",
     "shell.execute_reply.started": "2023-02-27T02:22:11.951848Z"
    },
    "tags": []
   },
   "outputs": [
    {
     "data": {
      "text/plain": [
       "str"
      ]
     },
     "execution_count": 158,
     "metadata": {},
     "output_type": "execute_result"
    }
   ],
   "source": [
    "type(page)"
   ]
  },
  {
   "cell_type": "code",
   "execution_count": 124,
   "id": "c8333f76-f922-4658-9888-2718c863a61b",
   "metadata": {
    "execution": {
     "iopub.execute_input": "2023-02-27T00:58:02.883815Z",
     "iopub.status.busy": "2023-02-27T00:58:02.882456Z",
     "iopub.status.idle": "2023-02-27T00:58:03.187572Z",
     "shell.execute_reply": "2023-02-27T00:58:03.186543Z",
     "shell.execute_reply.started": "2023-02-27T00:58:02.883815Z"
    },
    "tags": []
   },
   "outputs": [],
   "source": [
    "soup = BeautifulSoup(page, \"html.parser\")"
   ]
  },
  {
   "cell_type": "code",
   "execution_count": 126,
   "id": "10f3a8bf-316c-4687-a61d-351be379fec1",
   "metadata": {
    "execution": {
     "iopub.execute_input": "2023-02-27T00:59:58.615720Z",
     "iopub.status.busy": "2023-02-27T00:59:58.614709Z",
     "iopub.status.idle": "2023-02-27T00:59:58.635569Z",
     "shell.execute_reply": "2023-02-27T00:59:58.634547Z",
     "shell.execute_reply.started": "2023-02-27T00:59:58.615720Z"
    },
    "tags": []
   },
   "outputs": [
    {
     "data": {
      "text/plain": [
       "10"
      ]
     },
     "execution_count": 126,
     "metadata": {},
     "output_type": "execute_result"
    }
   ],
   "source": [
    "len(soup.find_all(\"section\"))"
   ]
  },
  {
   "cell_type": "code",
   "execution_count": 137,
   "id": "cff80f49-fe8c-41a0-a8a8-832a3e93eaa1",
   "metadata": {
    "execution": {
     "iopub.execute_input": "2023-02-27T01:26:22.945365Z",
     "iopub.status.busy": "2023-02-27T01:26:22.945365Z",
     "iopub.status.idle": "2023-02-27T01:26:22.953469Z",
     "shell.execute_reply": "2023-02-27T01:26:22.952443Z",
     "shell.execute_reply.started": "2023-02-27T01:26:22.945365Z"
    },
    "tags": []
   },
   "outputs": [
    {
     "name": "stdout",
     "output_type": "stream",
     "text": [
      "LLVM 16.0.0-rc3\n",
      "LLVM 16.0.0-rc2\n",
      "LLVM 16.0.0-rc1\n",
      "LLVM 15.0.7\n",
      "LLVM 15.0.6\n",
      "LLVM 15.0.5\n",
      "LLVM 15.0.4\n",
      "LLVM 15.0.3\n",
      "LLVM 15.0.2\n",
      "LLVM 15.0.1\n"
     ]
    }
   ],
   "source": [
    "for section in soup.find_all(\"section\"):\n",
    "    print(section.find(\"h2\", attrs = {\"class\": \"sr-only\"}).text)"
   ]
  },
  {
   "cell_type": "code",
   "execution_count": 139,
   "id": "29351d93-d2bd-4b89-a262-ae70517f20dc",
   "metadata": {
    "execution": {
     "iopub.execute_input": "2023-02-27T01:28:41.926361Z",
     "iopub.status.busy": "2023-02-27T01:28:41.926361Z",
     "iopub.status.idle": "2023-02-27T01:28:41.941382Z",
     "shell.execute_reply": "2023-02-27T01:28:41.941382Z",
     "shell.execute_reply.started": "2023-02-27T01:28:41.926361Z"
    },
    "tags": []
   },
   "outputs": [
    {
     "name": "stdout",
     "output_type": "stream",
     "text": [
      "[<span class=\"f3 text-bold d-inline mr-3\" data-view-component=\"true\">Assets</span>]\n",
      "[<span class=\"f3 text-bold d-inline mr-3\" data-view-component=\"true\">Assets</span>]\n",
      "[<span class=\"f3 text-bold d-inline mr-3\" data-view-component=\"true\">Assets</span>]\n",
      "[<span class=\"f3 text-bold d-inline mr-3\" data-view-component=\"true\">Assets</span>]\n",
      "[<span class=\"f3 text-bold d-inline mr-3\" data-view-component=\"true\">Assets</span>]\n",
      "[<span class=\"f3 text-bold d-inline mr-3\" data-view-component=\"true\">Assets</span>]\n",
      "[<span class=\"f3 text-bold d-inline mr-3\" data-view-component=\"true\">Assets</span>]\n",
      "[<span class=\"f3 text-bold d-inline mr-3\" data-view-component=\"true\">Assets</span>]\n",
      "[<span class=\"f3 text-bold d-inline mr-3\" data-view-component=\"true\">Assets</span>]\n",
      "[<span class=\"f3 text-bold d-inline mr-3\" data-view-component=\"true\">Assets</span>]\n"
     ]
    }
   ],
   "source": [
    "for section in soup.find_all(\"section\"):\n",
    "    print(section.find_all(\"span\", attrs = {\"class\": \"f3 text-bold d-inline mr-3\"}))"
   ]
  },
  {
   "cell_type": "code",
   "execution_count": 146,
   "id": "2a98263e-6a21-4d06-8703-abb99f7ed080",
   "metadata": {
    "execution": {
     "iopub.execute_input": "2023-02-27T01:37:58.375968Z",
     "iopub.status.busy": "2023-02-27T01:37:58.374984Z",
     "iopub.status.idle": "2023-02-27T01:37:58.385609Z",
     "shell.execute_reply": "2023-02-27T01:37:58.384595Z",
     "shell.execute_reply.started": "2023-02-27T01:37:58.375968Z"
    },
    "tags": []
   },
   "outputs": [
    {
     "name": "stdout",
     "output_type": "stream",
     "text": [
      "https://github.com/llvm/llvm-project/releases/expanded_assets/llvmorg-16.0.0-rc3\n",
      "https://github.com/llvm/llvm-project/releases/expanded_assets/llvmorg-16.0.0-rc2\n",
      "https://github.com/llvm/llvm-project/releases/expanded_assets/llvmorg-16.0.0-rc1\n",
      "https://github.com/llvm/llvm-project/releases/expanded_assets/llvmorg-15.0.6\n",
      "https://github.com/llvm/llvm-project/releases/expanded_assets/llvmorg-15.0.5\n",
      "https://github.com/llvm/llvm-project/releases/expanded_assets/llvmorg-15.0.4\n",
      "https://github.com/llvm/llvm-project/releases/expanded_assets/llvmorg-15.0.3\n",
      "https://github.com/llvm/llvm-project/releases/expanded_assets/llvmorg-15.0.2\n",
      "https://github.com/llvm/llvm-project/releases/expanded_assets/llvmorg-15.0.1\n"
     ]
    }
   ],
   "source": [
    "# the latest stable release is partially expanded automatically!\n",
    "\n",
    "for section in soup.find_all(\"section\"):\n",
    "    include_fragment = section.find(\"include-fragment\", attrs = {\"loading\": \"lazy\"})\n",
    "    if include_fragment:\n",
    "        print(include_fragment.get(\"src\"))"
   ]
  },
  {
   "cell_type": "code",
   "execution_count": 149,
   "id": "957061db-1bcf-47e0-895b-cbaa1130e373",
   "metadata": {
    "execution": {
     "iopub.execute_input": "2023-02-27T01:54:24.830248Z",
     "iopub.status.busy": "2023-02-27T01:54:24.830248Z",
     "iopub.status.idle": "2023-02-27T01:54:24.840518Z",
     "shell.execute_reply": "2023-02-27T01:54:24.839512Z",
     "shell.execute_reply.started": "2023-02-27T01:54:24.830248Z"
    },
    "tags": []
   },
   "outputs": [
    {
     "name": "stdout",
     "output_type": "stream",
     "text": [
      "https://github.com/llvm/llvm-project/releases/expanded_assets/llvmorg-15.0.7\n"
     ]
    }
   ],
   "source": [
    "for section in soup.find_all(\"section\"):\n",
    "    include_fragment = section.find(\"include-fragment\", attrs = {\"loading\": \"lazy\"})\n",
    "    if not include_fragment:\n",
    "        print(section.find(\"include-fragment\", attrs = {\"class\": \"js-truncated-assets-fragment\"}).get(\"data-deferred-src\"))"
   ]
  },
  {
   "cell_type": "code",
   "execution_count": 150,
   "id": "d25a3ec0-0af2-437b-9783-3dd6219e43b7",
   "metadata": {
    "execution": {
     "iopub.execute_input": "2023-02-27T02:08:32.236246Z",
     "iopub.status.busy": "2023-02-27T02:08:32.235246Z",
     "iopub.status.idle": "2023-02-27T02:08:32.241184Z",
     "shell.execute_reply": "2023-02-27T02:08:32.240176Z",
     "shell.execute_reply.started": "2023-02-27T02:08:32.236246Z"
    },
    "tags": []
   },
   "outputs": [],
   "source": [
    "win64 = re.compile(r\"LLVM(.)*win64.exe\")"
   ]
  },
  {
   "cell_type": "code",
   "execution_count": null,
   "id": "90d53645-d988-4e1d-b2d4-17c08d123d4f",
   "metadata": {},
   "outputs": [],
   "source": [
    "def extract_llvm_release_links(html_document: str) -> list[str]:\n",
    "    \n",
    "    \"\"\"\n",
    "    A function that takes GitHub LLVM releases HTML page as a string and returns\n",
    "    a list of links to actually access the download URIs.\n",
    "    Requires re and BeautifulSoup.\n",
    "    \"\"\"\n",
    "    \n",
    "    if not isinstance(html_document, str):\n",
    "        raise TypeError(\"Incompatible types. Argument must be of string <class 'str'> type.\")\n",
    "    \n",
    "    try:\n",
    "        from bs4 import BeautifulSoup\n",
    "    except ImportError:\n",
    "        raise ImportError(\"Unavailable application dependency: BeautifulSoup.\")\n",
    "        \n",
    "    links: list[str] = list()\n",
    "    \n",
    "    soup = BeautifulSoup(html_document)"
   ]
  },
  {
   "cell_type": "code",
   "execution_count": 154,
   "id": "1fb8c5f7-82b9-4eb2-ab1c-91c7495b8588",
   "metadata": {
    "execution": {
     "iopub.execute_input": "2023-02-27T02:15:42.487367Z",
     "iopub.status.busy": "2023-02-27T02:15:42.486351Z",
     "iopub.status.idle": "2023-02-27T02:15:42.491748Z",
     "shell.execute_reply": "2023-02-27T02:15:42.491748Z",
     "shell.execute_reply.started": "2023-02-27T02:15:42.487367Z"
    },
    "tags": []
   },
   "outputs": [
    {
     "data": {
      "text/plain": [
       "True"
      ]
     },
     "execution_count": 154,
     "metadata": {},
     "output_type": "execute_result"
    }
   ],
   "source": [
    "isinstance(\"89\", str)"
   ]
  },
  {
   "cell_type": "code",
   "execution_count": 157,
   "id": "b57d11ef-7ac2-4374-975d-1fd3fa80f11a",
   "metadata": {
    "execution": {
     "iopub.execute_input": "2023-02-27T02:16:36.694919Z",
     "iopub.status.busy": "2023-02-27T02:16:36.694919Z",
     "iopub.status.idle": "2023-02-27T02:16:36.700440Z",
     "shell.execute_reply": "2023-02-27T02:16:36.699423Z",
     "shell.execute_reply.started": "2023-02-27T02:16:36.694919Z"
    },
    "tags": []
   },
   "outputs": [
    {
     "name": "stdout",
     "output_type": "stream",
     "text": [
      "<class 'str'>\n"
     ]
    }
   ],
   "source": [
    "print(type(\"eqf\"))"
   ]
  },
  {
   "cell_type": "code",
   "execution_count": null,
   "id": "6e7dc656-7fd8-486c-b38e-0fb2d8af921d",
   "metadata": {},
   "outputs": [],
   "source": []
  }
 ],
 "metadata": {
  "kernelspec": {
   "display_name": "Python 3 (ipykernel)",
   "language": "python",
   "name": "python3"
  },
  "language_info": {
   "codemirror_mode": {
    "name": "ipython",
    "version": 3
   },
   "file_extension": ".py",
   "mimetype": "text/x-python",
   "name": "python",
   "nbconvert_exporter": "python",
   "pygments_lexer": "ipython3",
   "version": "3.11.2"
  }
 },
 "nbformat": 4,
 "nbformat_minor": 5
}
