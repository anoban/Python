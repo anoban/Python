{
 "cells": [
  {
   "cell_type": "code",
   "execution_count": 19,
   "id": "ff61adea-193d-4346-a418-4859b32461ac",
   "metadata": {
    "execution": {
     "iopub.execute_input": "2023-03-10T12:01:37.266062Z",
     "iopub.status.busy": "2023-03-10T12:01:37.266062Z",
     "iopub.status.idle": "2023-03-10T12:01:37.269571Z",
     "shell.execute_reply": "2023-03-10T12:01:37.269571Z",
     "shell.execute_reply.started": "2023-03-10T12:01:37.266062Z"
    },
    "tags": []
   },
   "outputs": [],
   "source": [
    "import re\n",
    "import typing\n",
    "from urllib import (request, error)\n",
    "import threading\n",
    "from bs4 import BeautifulSoup"
   ]
  },
  {
   "cell_type": "code",
   "execution_count": 2,
   "id": "ddf8d805-0391-4f9b-8299-5af8b56b0ef5",
   "metadata": {
    "execution": {
     "iopub.execute_input": "2023-03-10T11:46:12.904024Z",
     "iopub.status.busy": "2023-03-10T11:46:12.904024Z",
     "iopub.status.idle": "2023-03-10T11:46:12.909442Z",
     "shell.execute_reply": "2023-03-10T11:46:12.909442Z",
     "shell.execute_reply.started": "2023-03-10T11:46:12.904024Z"
    },
    "tags": []
   },
   "outputs": [],
   "source": [
    "def fetch_llvm_releases_github_page() -> str:\n",
    "    \n",
    "    \"\"\"\n",
    "    \n",
    "    Returns the HTML page at https://github.com/llvm/llvm-project/releases as a string object.\n",
    "    \n",
    "    \"\"\"\n",
    "    \n",
    "    page: str = \"\"\n",
    "    LLVM_RELEASE_PAGE = r\"https://github.com/llvm/llvm-project/releases\"\n",
    "    req = request.Request(url = LLVM_RELEASE_PAGE, method = \"GET\", headers = {\n",
    "        \"User-Agent\": \"Mozilla/5.0 (Windows NT 10.0; Win64; x64; rv:109.0) Gecko/20100101 Firefox/110.0\",\n",
    "        \"Connection\": \"close\"\n",
    "    })\n",
    "    try:\n",
    "        with request.urlopen(req) as response:\n",
    "            page = str(response.read())\n",
    "    except error.HTTPError as err:\n",
    "        raise error.HTTPError(err.__dict__) \n",
    "    return page"
   ]
  },
  {
   "cell_type": "code",
   "execution_count": 3,
   "id": "06832dad-c7e5-4791-a6e6-ceb010dc6551",
   "metadata": {
    "execution": {
     "iopub.execute_input": "2023-03-10T11:46:13.633655Z",
     "iopub.status.busy": "2023-03-10T11:46:13.632715Z",
     "iopub.status.idle": "2023-03-10T11:46:14.995632Z",
     "shell.execute_reply": "2023-03-10T11:46:14.994624Z",
     "shell.execute_reply.started": "2023-03-10T11:46:13.632715Z"
    },
    "tags": []
   },
   "outputs": [],
   "source": [
    "# okay\n",
    "\n",
    "page = fetch_llvm_releases_github_page();"
   ]
  },
  {
   "cell_type": "code",
   "execution_count": null,
   "id": "b0f0b5f4-044c-447d-b44e-a60bec25c8aa",
   "metadata": {},
   "outputs": [],
   "source": []
  },
  {
   "cell_type": "code",
   "execution_count": 4,
   "id": "90d53645-d988-4e1d-b2d4-17c08d123d4f",
   "metadata": {
    "execution": {
     "iopub.execute_input": "2023-03-10T11:46:16.725551Z",
     "iopub.status.busy": "2023-03-10T11:46:16.725551Z",
     "iopub.status.idle": "2023-03-10T11:46:16.732847Z",
     "shell.execute_reply": "2023-03-10T11:46:16.731806Z",
     "shell.execute_reply.started": "2023-03-10T11:46:16.725551Z"
    },
    "tags": []
   },
   "outputs": [],
   "source": [
    "def extract_llvm_release_versions_and_links(html_document: str) -> typing.Dict[str, str]:\n",
    "    \n",
    "    \"\"\"\n",
    "    \n",
    "    html_document: str\n",
    "    returns dict[version: str, uri: str]\n",
    "    \n",
    "    Takes the LLVM releases GitHub HTML page as a string, parses the page to extract released LLVM versions and their cognate\n",
    "    download URIs and returns them paired in a dictionary.\n",
    "    Requires BeautifulSoup for parsing the HTML document.\n",
    "    \n",
    "    Note that this function is delicate and prone to breaks as it depends on very intricate structural details of the HTML ducument.\n",
    "    Any small changes in the structure of the HTML ducument could potentially break the parsing logic. (If GitHub decides to change their page \n",
    "    structures)\n",
    "    \n",
    "    \"\"\"\n",
    "    \n",
    "    if not isinstance(html_document, str):\n",
    "        raise TypeError(\"Incompatible types. Argument must be of string <class 'str'> type.\")\n",
    "        \n",
    "    links: typing.Dict[str, str] = dict()\n",
    "    \n",
    "    soup = BeautifulSoup(html_document, \"html.parser\")\n",
    "    \n",
    "    for section in soup.find_all(\"section\"):\n",
    "        version = section.find(\"h2\", attrs = {\"class\": \"sr-only\"}).text\n",
    "        include_fragment = section.find(\"include-fragment\", attrs = {\"loading\": \"lazy\"})\n",
    "        \n",
    "        if include_fragment:\n",
    "            links[version] = include_fragment.get(\"src\")\n",
    "            \n",
    "        else:\n",
    "            lazy_load = section.find(\"include-fragment\", attrs = {\"class\": \"js-truncated-assets-fragment\"})\n",
    "            links[version] = lazy_load.get(\"data-deferred-src\")\n",
    "    return links"
   ]
  },
  {
   "cell_type": "code",
   "execution_count": 5,
   "id": "1fb8c5f7-82b9-4eb2-ab1c-91c7495b8588",
   "metadata": {
    "execution": {
     "iopub.execute_input": "2023-03-10T11:46:17.568221Z",
     "iopub.status.busy": "2023-03-10T11:46:17.568221Z",
     "iopub.status.idle": "2023-03-10T11:46:17.655731Z",
     "shell.execute_reply": "2023-03-10T11:46:17.655731Z",
     "shell.execute_reply.started": "2023-03-10T11:46:17.568221Z"
    },
    "tags": []
   },
   "outputs": [
    {
     "data": {
      "text/plain": [
       "{'LLVM 16.0.0-rc3': 'https://github.com/llvm/llvm-project/releases/expanded_assets/llvmorg-16.0.0-rc3',\n",
       " 'LLVM 16.0.0-rc2': 'https://github.com/llvm/llvm-project/releases/expanded_assets/llvmorg-16.0.0-rc2',\n",
       " 'LLVM 16.0.0-rc1': 'https://github.com/llvm/llvm-project/releases/expanded_assets/llvmorg-16.0.0-rc1',\n",
       " 'LLVM 15.0.7': 'https://github.com/llvm/llvm-project/releases/expanded_assets/llvmorg-15.0.7',\n",
       " 'LLVM 15.0.6': 'https://github.com/llvm/llvm-project/releases/expanded_assets/llvmorg-15.0.6',\n",
       " 'LLVM 15.0.5': 'https://github.com/llvm/llvm-project/releases/expanded_assets/llvmorg-15.0.5',\n",
       " 'LLVM 15.0.4': 'https://github.com/llvm/llvm-project/releases/expanded_assets/llvmorg-15.0.4',\n",
       " 'LLVM 15.0.3': 'https://github.com/llvm/llvm-project/releases/expanded_assets/llvmorg-15.0.3',\n",
       " 'LLVM 15.0.2': 'https://github.com/llvm/llvm-project/releases/expanded_assets/llvmorg-15.0.2',\n",
       " 'LLVM 15.0.1': 'https://github.com/llvm/llvm-project/releases/expanded_assets/llvmorg-15.0.1'}"
      ]
     },
     "execution_count": 5,
     "metadata": {},
     "output_type": "execute_result"
    }
   ],
   "source": [
    "extract_llvm_release_versions_and_links(page)"
   ]
  },
  {
   "cell_type": "code",
   "execution_count": 7,
   "id": "a4cbb1f3-4591-4583-994f-ea76cca84def",
   "metadata": {
    "execution": {
     "iopub.execute_input": "2023-03-10T11:46:23.584054Z",
     "iopub.status.busy": "2023-03-10T11:46:23.584054Z",
     "iopub.status.idle": "2023-03-10T11:46:24.433366Z",
     "shell.execute_reply": "2023-03-10T11:46:24.432359Z",
     "shell.execute_reply.started": "2023-03-10T11:46:23.584054Z"
    },
    "tags": []
   },
   "outputs": [
    {
     "name": "stdout",
     "output_type": "stream",
     "text": [
      "838 ms ± 0 ns per loop (mean ± std. dev. of 1 run, 1 loop each)\n"
     ]
    }
   ],
   "source": [
    "%%timeit -n 1 -r 1\n",
    "\n",
    "extract_llvm_win64_download_uri('https://github.com/llvm/llvm-project/releases/expanded_assets/llvmorg-15.0.1')"
   ]
  },
  {
   "cell_type": "code",
   "execution_count": 14,
   "id": "fd02e333-fa9b-4b66-93c1-2a12208728a3",
   "metadata": {
    "execution": {
     "iopub.execute_input": "2023-03-10T11:54:00.036991Z",
     "iopub.status.busy": "2023-03-10T11:54:00.036991Z",
     "iopub.status.idle": "2023-03-10T11:54:00.044211Z",
     "shell.execute_reply": "2023-03-10T11:54:00.044211Z",
     "shell.execute_reply.started": "2023-03-10T11:54:00.036991Z"
    },
    "jupyter": {
     "source_hidden": true
    },
    "tags": []
   },
   "outputs": [],
   "source": [
    "def get_llvm_win64_download_uris(version_uris: typing.Dict[str, str]) -> typing.Dict[str, str]:\n",
    "    \n",
    "    \"\"\"\n",
    "    \n",
    "    version_uris: dict[str, str]\n",
    "    returns dict[str, str]\n",
    "    \n",
    "    Receives the LLVM release versions and their download URIs paired in a Python dictionary object.\n",
    "    (returns of a call to extract_llvm_release_versions_and_links)\n",
    "    Returns the LLVM release versions and the download URIs for Windows x86-64 executables (.exes), paired in a \n",
    "    Python dictionary.\n",
    "    If a specifc release does not contain the Windows 64 bit executable, that release will be paired with None.\n",
    "    Uses asynchronous requests to improve performance.\n",
    "    \n",
    "    \"\"\"\n",
    "    \n",
    "    BASE_URL = \"https://github.com\"\n",
    "    win64 = re.compile(r\"/llvm/llvm-project/releases/download/[\\d\\w\\-\\.\\/]*win64.exe\")\n",
    "    result: typing.Dict[str, str] = dict.fromkeys(version_uris.keys(), \"\")\n",
    "    \n",
    "    for (release, uri) in version_uris.items():\n",
    "        req_custom = request.Request(url = uri, method = \"GET\", headers = {\n",
    "            \"User-Agent\": \"Mozilla/5.0 (Windows NT 10.0; Win64; x64; rv:109.0) Gecko/20100101 Firefox/110.0\",\n",
    "            \"Connection\": \"close\"\n",
    "        })\n",
    "    \n",
    "        with request.urlopen(req_custom) as response:\n",
    "            try:\n",
    "                resp_body = str(response.read().decode(\"utf8\"))\n",
    "                download_link = re.findall(win64, resp_body)\n",
    "                if download_link:\n",
    "                    result[release] = BASE_URL + download_link[0]\n",
    "                else:\n",
    "                    result[release] = None\n",
    "                \n",
    "            except error.HTTPError as err:\n",
    "                print(err.__dict__())\n",
    "    return result"
   ]
  },
  {
   "cell_type": "code",
   "execution_count": 15,
   "id": "6e7dc656-7fd8-486c-b38e-0fb2d8af921d",
   "metadata": {
    "execution": {
     "iopub.execute_input": "2023-03-10T11:54:04.901595Z",
     "iopub.status.busy": "2023-03-10T11:54:04.901595Z",
     "iopub.status.idle": "2023-03-10T11:54:14.611601Z",
     "shell.execute_reply": "2023-03-10T11:54:14.610595Z",
     "shell.execute_reply.started": "2023-03-10T11:54:04.901595Z"
    },
    "tags": []
   },
   "outputs": [
    {
     "name": "stdout",
     "output_type": "stream",
     "text": [
      "9.7 s ± 0 ns per loop (mean ± std. dev. of 1 run, 1 loop each)\n"
     ]
    }
   ],
   "source": [
    "%%timeit -n 1 -r 1\n",
    "\n",
    "get_llvm_win64_download_uris(extract_llvm_release_versions_and_links(page))"
   ]
  },
  {
   "cell_type": "code",
   "execution_count": 16,
   "id": "ea5d61ec-8004-484b-a1aa-06eb566831bd",
   "metadata": {
    "execution": {
     "iopub.execute_input": "2023-03-10T11:57:16.136424Z",
     "iopub.status.busy": "2023-03-10T11:57:16.136424Z",
     "iopub.status.idle": "2023-03-10T11:57:16.141866Z",
     "shell.execute_reply": "2023-03-10T11:57:16.140858Z",
     "shell.execute_reply.started": "2023-03-10T11:57:16.136424Z"
    },
    "tags": []
   },
   "outputs": [],
   "source": [
    "# a new fetch and extract function that takes just one url\n",
    "\n",
    "def extract_LLVM_win64_download_uri(link: str) -> str:\n",
    "    BASE_URL = \"https://github.com\"\n",
    "    win64 = re.compile(r\"/llvm/llvm-project/releases/download/[\\d\\w\\-\\.\\/]*win64.exe\")\n",
    "    \n",
    "    req_custom = request.Request(url = link, method = \"GET\", headers = {\n",
    "            \"User-Agent\": \"Mozilla/5.0 (Windows NT 10.0; Win64; x64; rv:109.0) Gecko/20100101 Firefox/110.0\",\n",
    "            \"Connection\": \"close\"\n",
    "        })\n",
    "    \n",
    "    with request.urlopen(req_custom) as response:\n",
    "        try:\n",
    "            resp_body = str(response.read().decode(\"utf8\"))\n",
    "            download_link = re.findall(win64, resp_body)\n",
    "            if download_link:\n",
    "                return BASE_URL + download_link[0]\n",
    "            else:\n",
    "                return None\n",
    "        except error.HTTPError as err:\n",
    "            print(err.__dict__())"
   ]
  },
  {
   "cell_type": "code",
   "execution_count": 17,
   "id": "30daad6e-912f-4249-a8e0-c91e68324e13",
   "metadata": {
    "execution": {
     "iopub.execute_input": "2023-03-10T11:57:32.320947Z",
     "iopub.status.busy": "2023-03-10T11:57:32.320947Z",
     "iopub.status.idle": "2023-03-10T11:57:41.966710Z",
     "shell.execute_reply": "2023-03-10T11:57:41.965688Z",
     "shell.execute_reply.started": "2023-03-10T11:57:32.320947Z"
    }
   },
   "outputs": [
    {
     "data": {
      "text/plain": [
       "{'LLVM 16.0.0-rc3': 'https://github.com/llvm/llvm-project/releases/download/llvmorg-16.0.0-rc3/LLVM-16.0.0-rc3-win64.exe',\n",
       " 'LLVM 16.0.0-rc2': 'https://github.com/llvm/llvm-project/releases/download/llvmorg-16.0.0-rc2/LLVM-16.0.0-rc2-win64.exe',\n",
       " 'LLVM 16.0.0-rc1': None,\n",
       " 'LLVM 15.0.7': 'https://github.com/llvm/llvm-project/releases/download/llvmorg-15.0.7/LLVM-15.0.7-win64.exe',\n",
       " 'LLVM 15.0.6': 'https://github.com/llvm/llvm-project/releases/download/llvmorg-15.0.6/LLVM-15.0.6-win64.exe',\n",
       " 'LLVM 15.0.5': 'https://github.com/llvm/llvm-project/releases/download/llvmorg-15.0.5/LLVM-15.0.5-win64.exe',\n",
       " 'LLVM 15.0.4': 'https://github.com/llvm/llvm-project/releases/download/llvmorg-15.0.4/LLVM-15.0.4-win64.exe',\n",
       " 'LLVM 15.0.3': 'https://github.com/llvm/llvm-project/releases/download/llvmorg-15.0.3/LLVM-15.0.3-win64.exe',\n",
       " 'LLVM 15.0.2': 'https://github.com/llvm/llvm-project/releases/download/llvmorg-15.0.2/LLVM-15.0.2-win64.exe',\n",
       " 'LLVM 15.0.1': 'https://github.com/llvm/llvm-project/releases/download/llvmorg-15.0.1/LLVM-15.0.1-win64.exe'}"
      ]
     },
     "execution_count": 17,
     "metadata": {},
     "output_type": "execute_result"
    }
   ],
   "source": [
    "get_llvm_win64_download_uris(extract_llvm_release_versions_and_links(page))"
   ]
  },
  {
   "cell_type": "code",
   "execution_count": 18,
   "id": "e82d71e5-14c6-465a-9fbe-62e633162519",
   "metadata": {
    "execution": {
     "iopub.execute_input": "2023-03-10T11:59:12.428987Z",
     "iopub.status.busy": "2023-03-10T11:59:12.427989Z",
     "iopub.status.idle": "2023-03-10T11:59:13.453676Z",
     "shell.execute_reply": "2023-03-10T11:59:13.452661Z",
     "shell.execute_reply.started": "2023-03-10T11:59:12.428987Z"
    },
    "tags": []
   },
   "outputs": [
    {
     "data": {
      "text/plain": [
       "'https://github.com/llvm/llvm-project/releases/download/llvmorg-15.0.1/LLVM-15.0.1-win64.exe'"
      ]
     },
     "execution_count": 18,
     "metadata": {},
     "output_type": "execute_result"
    }
   ],
   "source": [
    "extract_LLVM_win64_download_uri('https://github.com/llvm/llvm-project/releases/expanded_assets/llvmorg-15.0.1')"
   ]
  },
  {
   "cell_type": "code",
   "execution_count": 20,
   "id": "28d2ad30-3c1c-450f-ba4b-6e29a9bb2943",
   "metadata": {
    "execution": {
     "iopub.execute_input": "2023-03-10T12:02:04.114184Z",
     "iopub.status.busy": "2023-03-10T12:02:04.114184Z",
     "iopub.status.idle": "2023-03-10T12:02:04.206256Z",
     "shell.execute_reply": "2023-03-10T12:02:04.205247Z",
     "shell.execute_reply.started": "2023-03-10T12:02:04.114184Z"
    },
    "tags": []
   },
   "outputs": [
    {
     "data": {
      "text/plain": [
       "{'LLVM 16.0.0-rc3': 'https://github.com/llvm/llvm-project/releases/expanded_assets/llvmorg-16.0.0-rc3',\n",
       " 'LLVM 16.0.0-rc2': 'https://github.com/llvm/llvm-project/releases/expanded_assets/llvmorg-16.0.0-rc2',\n",
       " 'LLVM 16.0.0-rc1': 'https://github.com/llvm/llvm-project/releases/expanded_assets/llvmorg-16.0.0-rc1',\n",
       " 'LLVM 15.0.7': 'https://github.com/llvm/llvm-project/releases/expanded_assets/llvmorg-15.0.7',\n",
       " 'LLVM 15.0.6': 'https://github.com/llvm/llvm-project/releases/expanded_assets/llvmorg-15.0.6',\n",
       " 'LLVM 15.0.5': 'https://github.com/llvm/llvm-project/releases/expanded_assets/llvmorg-15.0.5',\n",
       " 'LLVM 15.0.4': 'https://github.com/llvm/llvm-project/releases/expanded_assets/llvmorg-15.0.4',\n",
       " 'LLVM 15.0.3': 'https://github.com/llvm/llvm-project/releases/expanded_assets/llvmorg-15.0.3',\n",
       " 'LLVM 15.0.2': 'https://github.com/llvm/llvm-project/releases/expanded_assets/llvmorg-15.0.2',\n",
       " 'LLVM 15.0.1': 'https://github.com/llvm/llvm-project/releases/expanded_assets/llvmorg-15.0.1'}"
      ]
     },
     "execution_count": 20,
     "metadata": {},
     "output_type": "execute_result"
    }
   ],
   "source": [
    "page_links = extract_llvm_release_versions_and_links(page)\n",
    "page_links"
   ]
  },
  {
   "cell_type": "code",
   "execution_count": 21,
   "id": "aa2e2911-c672-4c74-9538-9066c6066975",
   "metadata": {
    "execution": {
     "iopub.execute_input": "2023-03-10T12:03:30.773386Z",
     "iopub.status.busy": "2023-03-10T12:03:30.773386Z",
     "iopub.status.idle": "2023-03-10T12:03:30.776635Z",
     "shell.execute_reply": "2023-03-10T12:03:30.776635Z",
     "shell.execute_reply.started": "2023-03-10T12:03:30.773386Z"
    },
    "tags": []
   },
   "outputs": [],
   "source": [
    "win64_downloads = dict.fromkeys(page_links.keys())"
   ]
  },
  {
   "cell_type": "code",
   "execution_count": 23,
   "id": "6fc19807-151b-4101-81f2-2af8f5f7e33c",
   "metadata": {
    "execution": {
     "iopub.execute_input": "2023-03-10T12:03:38.794371Z",
     "iopub.status.busy": "2023-03-10T12:03:38.794371Z",
     "iopub.status.idle": "2023-03-10T12:03:38.798585Z",
     "shell.execute_reply": "2023-03-10T12:03:38.798585Z",
     "shell.execute_reply.started": "2023-03-10T12:03:38.794371Z"
    },
    "tags": []
   },
   "outputs": [
    {
     "data": {
      "text/plain": [
       "{'LLVM 16.0.0-rc3': None,\n",
       " 'LLVM 16.0.0-rc2': None,\n",
       " 'LLVM 16.0.0-rc1': None,\n",
       " 'LLVM 15.0.7': None,\n",
       " 'LLVM 15.0.6': None,\n",
       " 'LLVM 15.0.5': None,\n",
       " 'LLVM 15.0.4': None,\n",
       " 'LLVM 15.0.3': None,\n",
       " 'LLVM 15.0.2': None,\n",
       " 'LLVM 15.0.1': None}"
      ]
     },
     "execution_count": 23,
     "metadata": {},
     "output_type": "execute_result"
    }
   ],
   "source": [
    "win64_downloads"
   ]
  },
  {
   "cell_type": "code",
   "execution_count": 49,
   "id": "af624d34-72d2-41f0-b477-2350dde48bd9",
   "metadata": {
    "execution": {
     "iopub.execute_input": "2023-03-10T12:46:06.632494Z",
     "iopub.status.busy": "2023-03-10T12:46:06.632494Z",
     "iopub.status.idle": "2023-03-10T12:46:06.637773Z",
     "shell.execute_reply": "2023-03-10T12:46:06.637773Z",
     "shell.execute_reply.started": "2023-03-10T12:46:06.632494Z"
    },
    "tags": []
   },
   "outputs": [],
   "source": [
    "class Win64FetcherThread(threading.Thread):\n",
    "    \n",
    "    def __init__(self, link: str, regex: typing.Pattern[str]) -> None:\n",
    "        threading.Thread.__init__(self)\n",
    "        self.link: str = link\n",
    "        self.result = None\n",
    "        self.BASE_URL = \"https://github.com\"\n",
    "        self.pattern = regex \n",
    "        # I presume having to compile the regex at every instance of this call would lead to performance loss\n",
    "        # so, take a compiled regex object on initialization.\n",
    "        # removing the self.patterns = re.compile(r\"/llvm/llvm-project/releases/download/[\\d\\w\\-\\.\\/]*win64.exe\")\n",
    "    \n",
    "    def run(self) -> str:\n",
    "\n",
    "\n",
    "        req_custom = request.Request(url = self.link, method = \"GET\", headers = {\n",
    "                \"User-Agent\": \"Mozilla/5.0 (Windows NT 10.0; Win64; x64; rv:109.0) Gecko/20100101 Firefox/110.0\",\n",
    "                \"Connection\": \"close\"\n",
    "            })\n",
    "\n",
    "        with request.urlopen(req_custom) as response:\n",
    "            try:\n",
    "                resp_body = str(response.read().decode(\"utf8\"))\n",
    "                download_link = re.findall(self.pattern, resp_body)\n",
    "                if download_link:\n",
    "                    self.result = self.BASE_URL + download_link[0]\n",
    "                else:\n",
    "                    self.result = None\n",
    "            except error.HTTPError as err:\n",
    "                print(err.__dict__())"
   ]
  },
  {
   "cell_type": "code",
   "execution_count": 50,
   "id": "868b8601-4d23-4843-831d-0a9ca9e739dd",
   "metadata": {
    "execution": {
     "iopub.execute_input": "2023-03-10T12:46:07.275237Z",
     "iopub.status.busy": "2023-03-10T12:46:07.274237Z",
     "iopub.status.idle": "2023-03-10T12:46:07.288055Z",
     "shell.execute_reply": "2023-03-10T12:46:07.288055Z",
     "shell.execute_reply.started": "2023-03-10T12:46:07.275237Z"
    },
    "tags": []
   },
   "outputs": [],
   "source": [
    "thread_1 = Win64FetcherThread(link = 'https://github.com/llvm/llvm-project/releases/expanded_assets/llvmorg-15.0.3')"
   ]
  },
  {
   "cell_type": "code",
   "execution_count": 41,
   "id": "77292b5f-3de5-4d12-a3ec-4d5c11f69ebd",
   "metadata": {
    "execution": {
     "iopub.execute_input": "2023-03-10T12:25:40.810308Z",
     "iopub.status.busy": "2023-03-10T12:25:40.810308Z",
     "iopub.status.idle": "2023-03-10T12:25:41.807219Z",
     "shell.execute_reply": "2023-03-10T12:25:41.805196Z",
     "shell.execute_reply.started": "2023-03-10T12:25:40.810308Z"
    },
    "tags": []
   },
   "outputs": [],
   "source": [
    "thread_1.start()\n",
    "thread_1.join()"
   ]
  },
  {
   "cell_type": "code",
   "execution_count": 42,
   "id": "a5bb34ee-9602-4639-806c-e997b9998100",
   "metadata": {
    "execution": {
     "iopub.execute_input": "2023-03-10T12:25:50.984161Z",
     "iopub.status.busy": "2023-03-10T12:25:50.983161Z",
     "iopub.status.idle": "2023-03-10T12:25:50.988397Z",
     "shell.execute_reply": "2023-03-10T12:25:50.988397Z",
     "shell.execute_reply.started": "2023-03-10T12:25:50.984161Z"
    },
    "tags": []
   },
   "outputs": [
    {
     "data": {
      "text/plain": [
       "'https://github.com/llvm/llvm-project/releases/download/llvmorg-15.0.3/LLVM-15.0.3-win64.exe'"
      ]
     },
     "execution_count": 42,
     "metadata": {},
     "output_type": "execute_result"
    }
   ],
   "source": [
    "thread_1.result"
   ]
  },
  {
   "cell_type": "code",
   "execution_count": 71,
   "id": "79726e47-d52a-44bb-995d-223fac2b228c",
   "metadata": {
    "execution": {
     "iopub.execute_input": "2023-03-10T12:57:05.474009Z",
     "iopub.status.busy": "2023-03-10T12:57:05.474009Z",
     "iopub.status.idle": "2023-03-10T12:57:05.478334Z",
     "shell.execute_reply": "2023-03-10T12:57:05.478334Z",
     "shell.execute_reply.started": "2023-03-10T12:57:05.474009Z"
    },
    "tags": []
   },
   "outputs": [],
   "source": [
    "def execute(page_links: typing.Dict[str, str]) -> typing.Dict[str, str]:\n",
    "    \n",
    "    regex = re.compile(r\"/llvm/llvm-project/releases/download/[\\d\\w\\-\\.\\/]*win64.exe\")\n",
    "    win64_downloads = dict.fromkeys(page_links.keys())\n",
    "    \n",
    "    threads = [Win64FetcherThread(link = uri, regex = regex) for uri in page_links.values()]\n",
    "    \n",
    "    for thread in threads:\n",
    "        thread.start()\n",
    "        \n",
    "    for thread in threads:\n",
    "        thread.join()\n",
    "    \n",
    "    for (i, release) in enumerate(win64_downloads.keys()):\n",
    "        win64_downloads[release] = threads[i].result\n",
    "    \n",
    "    return win64_downloads"
   ]
  },
  {
   "cell_type": "code",
   "execution_count": 74,
   "id": "d2e695c3-9742-43fb-b6bf-f713c6d36370",
   "metadata": {
    "execution": {
     "iopub.execute_input": "2023-03-10T12:57:26.627671Z",
     "iopub.status.busy": "2023-03-10T12:57:26.626586Z",
     "iopub.status.idle": "2023-03-10T12:57:27.759464Z",
     "shell.execute_reply": "2023-03-10T12:57:27.757936Z",
     "shell.execute_reply.started": "2023-03-10T12:57:26.627671Z"
    },
    "tags": []
   },
   "outputs": [
    {
     "name": "stdout",
     "output_type": "stream",
     "text": [
      "1.12 s ± 0 ns per loop (mean ± std. dev. of 1 run, 1 loop each)\n"
     ]
    }
   ],
   "source": [
    "%%timeit -n 1 -r 1\n",
    "\n",
    "execute(page_links)"
   ]
  },
  {
   "cell_type": "code",
   "execution_count": 73,
   "id": "a650ee8b-160e-4aba-9ad7-f74d51e51c73",
   "metadata": {
    "execution": {
     "iopub.execute_input": "2023-03-10T12:57:22.481600Z",
     "iopub.status.busy": "2023-03-10T12:57:22.481600Z",
     "iopub.status.idle": "2023-03-10T12:57:23.864389Z",
     "shell.execute_reply": "2023-03-10T12:57:23.864389Z",
     "shell.execute_reply.started": "2023-03-10T12:57:22.481600Z"
    },
    "tags": []
   },
   "outputs": [
    {
     "data": {
      "text/plain": [
       "{'LLVM 16.0.0-rc3': 'https://github.com/llvm/llvm-project/releases/download/llvmorg-16.0.0-rc3/LLVM-16.0.0-rc3-win64.exe',\n",
       " 'LLVM 16.0.0-rc2': 'https://github.com/llvm/llvm-project/releases/download/llvmorg-16.0.0-rc2/LLVM-16.0.0-rc2-win64.exe',\n",
       " 'LLVM 16.0.0-rc1': None,\n",
       " 'LLVM 15.0.7': 'https://github.com/llvm/llvm-project/releases/download/llvmorg-15.0.7/LLVM-15.0.7-win64.exe',\n",
       " 'LLVM 15.0.6': 'https://github.com/llvm/llvm-project/releases/download/llvmorg-15.0.6/LLVM-15.0.6-win64.exe',\n",
       " 'LLVM 15.0.5': 'https://github.com/llvm/llvm-project/releases/download/llvmorg-15.0.5/LLVM-15.0.5-win64.exe',\n",
       " 'LLVM 15.0.4': 'https://github.com/llvm/llvm-project/releases/download/llvmorg-15.0.4/LLVM-15.0.4-win64.exe',\n",
       " 'LLVM 15.0.3': 'https://github.com/llvm/llvm-project/releases/download/llvmorg-15.0.3/LLVM-15.0.3-win64.exe',\n",
       " 'LLVM 15.0.2': 'https://github.com/llvm/llvm-project/releases/download/llvmorg-15.0.2/LLVM-15.0.2-win64.exe',\n",
       " 'LLVM 15.0.1': 'https://github.com/llvm/llvm-project/releases/download/llvmorg-15.0.1/LLVM-15.0.1-win64.exe'}"
      ]
     },
     "execution_count": 73,
     "metadata": {},
     "output_type": "execute_result"
    }
   ],
   "source": [
    "execute(page_links)"
   ]
  },
  {
   "cell_type": "code",
   "execution_count": null,
   "id": "cd23c898-d084-49ec-af42-b49566d09466",
   "metadata": {},
   "outputs": [],
   "source": []
  }
 ],
 "metadata": {
  "kernelspec": {
   "display_name": "Python 3 (ipykernel)",
   "language": "python",
   "name": "python3"
  },
  "language_info": {
   "codemirror_mode": {
    "name": "ipython",
    "version": 3
   },
   "file_extension": ".py",
   "mimetype": "text/x-python",
   "name": "python",
   "nbconvert_exporter": "python",
   "pygments_lexer": "ipython3",
   "version": "3.11.2"
  }
 },
 "nbformat": 4,
 "nbformat_minor": 5
}
