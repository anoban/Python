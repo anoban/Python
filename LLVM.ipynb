{
 "cells": [
  {
   "cell_type": "code",
   "execution_count": 176,
   "id": "ff61adea-193d-4346-a418-4859b32461ac",
   "metadata": {
    "execution": {
     "iopub.execute_input": "2023-02-28T11:20:31.855763Z",
     "iopub.status.busy": "2023-02-28T11:20:31.855763Z",
     "iopub.status.idle": "2023-02-28T11:20:31.858998Z",
     "shell.execute_reply": "2023-02-28T11:20:31.858998Z",
     "shell.execute_reply.started": "2023-02-28T11:20:31.855763Z"
    },
    "tags": []
   },
   "outputs": [],
   "source": [
    "try:\n",
    "    import re\n",
    "    import typing\n",
    "    from urllib import (request, error)\n",
    "    import sys\n",
    "    from bs4 import BeautifulSoup\n",
    "except ModuleNotFoundError as err:\n",
    "    raise ModuleNotFoundError(err.__dict__)\n",
    "    sys.exit(1)"
   ]
  },
  {
   "cell_type": "code",
   "execution_count": 178,
   "id": "ddf8d805-0391-4f9b-8299-5af8b56b0ef5",
   "metadata": {
    "execution": {
     "iopub.execute_input": "2023-02-28T11:20:44.100512Z",
     "iopub.status.busy": "2023-02-28T11:20:44.100512Z",
     "iopub.status.idle": "2023-02-28T11:20:44.105895Z",
     "shell.execute_reply": "2023-02-28T11:20:44.105895Z",
     "shell.execute_reply.started": "2023-02-28T11:20:44.100512Z"
    },
    "tags": []
   },
   "outputs": [],
   "source": [
    "def fetch_llvm_releases_github_page() -> str:\n",
    "    page: str = \"\"\n",
    "    LLVM_RELEASE_PAGE = r\"https://github.com/llvm/llvm-project/releases\"\n",
    "    req = request.Request(url = LLVM_RELEASE_PAGE, method = \"GET\", headers = {\n",
    "        \"User-Agent\": \"Mozilla/5.0 (Windows NT 10.0; Win64; x64; rv:109.0) Gecko/20100101 Firefox/110.0\"\n",
    "    })\n",
    "    try:\n",
    "        with request.urlopen(req) as response:\n",
    "            page = str(response.read())\n",
    "    except error.HTTPError as err:\n",
    "        raise error.HTTPError(err.__dict__) \n",
    "    return page"
   ]
  },
  {
   "cell_type": "code",
   "execution_count": 179,
   "id": "06832dad-c7e5-4791-a6e6-ceb010dc6551",
   "metadata": {
    "execution": {
     "iopub.execute_input": "2023-02-28T11:20:45.283964Z",
     "iopub.status.busy": "2023-02-28T11:20:45.283964Z",
     "iopub.status.idle": "2023-02-28T11:20:46.931267Z",
     "shell.execute_reply": "2023-02-28T11:20:46.930233Z",
     "shell.execute_reply.started": "2023-02-28T11:20:45.283964Z"
    },
    "tags": []
   },
   "outputs": [],
   "source": [
    "fetch_llvm_releases_github_page();"
   ]
  },
  {
   "cell_type": "code",
   "execution_count": null,
   "id": "b0f0b5f4-044c-447d-b44e-a60bec25c8aa",
   "metadata": {},
   "outputs": [],
   "source": []
  },
  {
   "cell_type": "code",
   "execution_count": 180,
   "id": "90d53645-d988-4e1d-b2d4-17c08d123d4f",
   "metadata": {
    "execution": {
     "iopub.execute_input": "2023-02-28T11:20:47.606116Z",
     "iopub.status.busy": "2023-02-28T11:20:47.606116Z",
     "iopub.status.idle": "2023-02-28T11:20:47.610661Z",
     "shell.execute_reply": "2023-02-28T11:20:47.610661Z",
     "shell.execute_reply.started": "2023-02-28T11:20:47.606116Z"
    },
    "tags": []
   },
   "outputs": [],
   "source": [
    "def extract_llvm_release_versions_and_links(html_document: str) -> typing.Dict[str, str]:\n",
    "    \n",
    "    \"\"\"\n",
    "    A function that takes GitHub LLVM releases HTML page as a string and returns\n",
    "    a list of links to actually access the download URIs.\n",
    "    Requires re and BeautifulSoup.\n",
    "    \"\"\"\n",
    "    \n",
    "    if not isinstance(html_document, str):\n",
    "        raise TypeError(\"Incompatible types. Argument must be of string <class 'str'> type.\")\n",
    "        \n",
    "    links: typing.Dict[str, str] = dict()\n",
    "    \n",
    "    soup = BeautifulSoup(html_document, \"html.parser\")\n",
    "    \n",
    "    for section in soup.find_all(\"section\"):\n",
    "        version = section.find(\"h2\", attrs = {\"class\": \"sr-only\"}).text\n",
    "        include_fragment = section.find(\"include-fragment\", attrs = {\"loading\": \"lazy\"})\n",
    "        \n",
    "        if include_fragment:\n",
    "            links[version] = include_fragment.get(\"src\")\n",
    "            \n",
    "        else:\n",
    "            lazy_load = section.find(\"include-fragment\", attrs = {\"class\": \"js-truncated-assets-fragment\"})\n",
    "            links[version] = lazy_load.get(\"data-deferred-src\")\n",
    "    return links"
   ]
  },
  {
   "cell_type": "code",
   "execution_count": 181,
   "id": "1fb8c5f7-82b9-4eb2-ab1c-91c7495b8588",
   "metadata": {
    "execution": {
     "iopub.execute_input": "2023-02-28T11:20:49.253406Z",
     "iopub.status.busy": "2023-02-28T11:20:49.253406Z",
     "iopub.status.idle": "2023-02-28T11:20:49.334174Z",
     "shell.execute_reply": "2023-02-28T11:20:49.334174Z",
     "shell.execute_reply.started": "2023-02-28T11:20:49.253406Z"
    },
    "tags": []
   },
   "outputs": [
    {
     "data": {
      "text/plain": [
       "{'LLVM 16.0.0-rc3': 'https://github.com/llvm/llvm-project/releases/expanded_assets/llvmorg-16.0.0-rc3',\n",
       " 'LLVM 16.0.0-rc2': 'https://github.com/llvm/llvm-project/releases/expanded_assets/llvmorg-16.0.0-rc2',\n",
       " 'LLVM 16.0.0-rc1': 'https://github.com/llvm/llvm-project/releases/expanded_assets/llvmorg-16.0.0-rc1',\n",
       " 'LLVM 15.0.7': 'https://github.com/llvm/llvm-project/releases/expanded_assets/llvmorg-15.0.7',\n",
       " 'LLVM 15.0.6': 'https://github.com/llvm/llvm-project/releases/expanded_assets/llvmorg-15.0.6',\n",
       " 'LLVM 15.0.5': 'https://github.com/llvm/llvm-project/releases/expanded_assets/llvmorg-15.0.5',\n",
       " 'LLVM 15.0.4': 'https://github.com/llvm/llvm-project/releases/expanded_assets/llvmorg-15.0.4',\n",
       " 'LLVM 15.0.3': 'https://github.com/llvm/llvm-project/releases/expanded_assets/llvmorg-15.0.3',\n",
       " 'LLVM 15.0.2': 'https://github.com/llvm/llvm-project/releases/expanded_assets/llvmorg-15.0.2',\n",
       " 'LLVM 15.0.1': 'https://github.com/llvm/llvm-project/releases/expanded_assets/llvmorg-15.0.1'}"
      ]
     },
     "execution_count": 181,
     "metadata": {},
     "output_type": "execute_result"
    }
   ],
   "source": [
    "extract_llvm_release_versions_and_links(page)"
   ]
  },
  {
   "cell_type": "code",
   "execution_count": 186,
   "id": "b57d11ef-7ac2-4374-975d-1fd3fa80f11a",
   "metadata": {
    "execution": {
     "iopub.execute_input": "2023-02-28T11:22:33.160630Z",
     "iopub.status.busy": "2023-02-28T11:22:33.159622Z",
     "iopub.status.idle": "2023-02-28T11:22:33.166104Z",
     "shell.execute_reply": "2023-02-28T11:22:33.165095Z",
     "shell.execute_reply.started": "2023-02-28T11:22:33.160630Z"
    },
    "tags": []
   },
   "outputs": [],
   "source": [
    "def get_llvm_win64_download_uris(urls: list[str]) -> list[str]:\n",
    "    \n",
    "    \"\"\"\n",
    "    \n",
    "    \"\"\"\n",
    "    \n",
    "    download_uris: list[str] = list()\n",
    "\n",
    "    BASE_URL = \"https://github.com\"\n",
    "    win64 = re.compile(r\"/llvm/llvm-project/releases/download/[\\d\\w\\-\\.\\/]*win64.exe\")\n",
    "    \n",
    "    for url in urls:\n",
    "        req_custom = request.Request(url = url, method = \"GET\", headers = {\n",
    "            \"User-Agent\": \"Mozilla/5.0 (Windows NT 10.0; Win64; x64; rv:109.0) Gecko/20100101 Firefox/110.0\"\n",
    "        })\n",
    "    \n",
    "        with request.urlopen(req_custom) as response:\n",
    "            try:\n",
    "                resp_body = str(response.read().decode(\"utf8\"))\n",
    "                download_link = re.findall(win64, resp_body)\n",
    "                if download_link:\n",
    "                    download_uris.append(BASE_URL + download_link[0])\n",
    "                else:\n",
    "                    download_uris.append(None)\n",
    "                \n",
    "            except error.HTTPError as err:\n",
    "                print(err)\n",
    "    return download_uris"
   ]
  },
  {
   "cell_type": "code",
   "execution_count": 187,
   "id": "6e7dc656-7fd8-486c-b38e-0fb2d8af921d",
   "metadata": {
    "execution": {
     "iopub.execute_input": "2023-02-28T11:22:33.856665Z",
     "iopub.status.busy": "2023-02-28T11:22:33.856665Z",
     "iopub.status.idle": "2023-02-28T11:22:44.560028Z",
     "shell.execute_reply": "2023-02-28T11:22:44.560028Z",
     "shell.execute_reply.started": "2023-02-28T11:22:33.856665Z"
    },
    "tags": []
   },
   "outputs": [
    {
     "data": {
      "text/plain": [
       "['https://github.com/llvm/llvm-project/releases/download/llvmorg-16.0.0-rc3/LLVM-16.0.0-rc3-win64.exe',\n",
       " 'https://github.com/llvm/llvm-project/releases/download/llvmorg-16.0.0-rc2/LLVM-16.0.0-rc2-win64.exe',\n",
       " None,\n",
       " 'https://github.com/llvm/llvm-project/releases/download/llvmorg-15.0.7/LLVM-15.0.7-win64.exe',\n",
       " 'https://github.com/llvm/llvm-project/releases/download/llvmorg-15.0.6/LLVM-15.0.6-win64.exe',\n",
       " 'https://github.com/llvm/llvm-project/releases/download/llvmorg-15.0.5/LLVM-15.0.5-win64.exe',\n",
       " 'https://github.com/llvm/llvm-project/releases/download/llvmorg-15.0.4/LLVM-15.0.4-win64.exe',\n",
       " 'https://github.com/llvm/llvm-project/releases/download/llvmorg-15.0.3/LLVM-15.0.3-win64.exe',\n",
       " 'https://github.com/llvm/llvm-project/releases/download/llvmorg-15.0.2/LLVM-15.0.2-win64.exe',\n",
       " 'https://github.com/llvm/llvm-project/releases/download/llvmorg-15.0.1/LLVM-15.0.1-win64.exe']"
      ]
     },
     "execution_count": 187,
     "metadata": {},
     "output_type": "execute_result"
    }
   ],
   "source": [
    "get_llvm_win64_download_uris(extract_llvm_release_links(page))"
   ]
  },
  {
   "cell_type": "code",
   "execution_count": null,
   "id": "ea5d61ec-8004-484b-a1aa-06eb566831bd",
   "metadata": {},
   "outputs": [],
   "source": []
  }
 ],
 "metadata": {
  "kernelspec": {
   "display_name": "Python 3 (ipykernel)",
   "language": "python",
   "name": "python3"
  },
  "language_info": {
   "codemirror_mode": {
    "name": "ipython",
    "version": 3
   },
   "file_extension": ".py",
   "mimetype": "text/x-python",
   "name": "python",
   "nbconvert_exporter": "python",
   "pygments_lexer": "ipython3",
   "version": "3.11.2"
  }
 },
 "nbformat": 4,
 "nbformat_minor": 5
}
