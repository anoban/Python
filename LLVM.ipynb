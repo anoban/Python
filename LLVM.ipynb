{
 "cells": [
  {
   "cell_type": "code",
   "execution_count": 11,
   "id": "ff61adea-193d-4346-a418-4859b32461ac",
   "metadata": {
    "execution": {
     "iopub.execute_input": "2023-03-10T01:04:54.036097Z",
     "iopub.status.busy": "2023-03-10T01:04:54.035096Z",
     "iopub.status.idle": "2023-03-10T01:04:54.038958Z",
     "shell.execute_reply": "2023-03-10T01:04:54.038958Z",
     "shell.execute_reply.started": "2023-03-10T01:04:54.036097Z"
    },
    "tags": []
   },
   "outputs": [],
   "source": [
    "import re\n",
    "import typing\n",
    "from urllib import (request, error)\n",
    "import sys\n",
    "import asyncio\n",
    "from bs4 import BeautifulSoup"
   ]
  },
  {
   "cell_type": "code",
   "execution_count": 2,
   "id": "ddf8d805-0391-4f9b-8299-5af8b56b0ef5",
   "metadata": {
    "execution": {
     "iopub.execute_input": "2023-03-10T00:52:37.087981Z",
     "iopub.status.busy": "2023-03-10T00:52:37.086984Z",
     "iopub.status.idle": "2023-03-10T00:52:37.094708Z",
     "shell.execute_reply": "2023-03-10T00:52:37.094708Z",
     "shell.execute_reply.started": "2023-03-10T00:52:37.086984Z"
    },
    "tags": []
   },
   "outputs": [],
   "source": [
    "def fetch_llvm_releases_github_page() -> str:\n",
    "    \n",
    "    \"\"\"\n",
    "    \n",
    "    Returns the HTML page at https://github.com/llvm/llvm-project/releases as a string object.\n",
    "    \n",
    "    \"\"\"\n",
    "    \n",
    "    page: str = \"\"\n",
    "    LLVM_RELEASE_PAGE = r\"https://github.com/llvm/llvm-project/releases\"\n",
    "    req = request.Request(url = LLVM_RELEASE_PAGE, method = \"GET\", headers = {\n",
    "        \"User-Agent\": \"Mozilla/5.0 (Windows NT 10.0; Win64; x64; rv:109.0) Gecko/20100101 Firefox/110.0\",\n",
    "        \"Connection\": \"close\"\n",
    "    })\n",
    "    try:\n",
    "        with request.urlopen(req) as response:\n",
    "            page = str(response.read())\n",
    "    except error.HTTPError as err:\n",
    "        raise error.HTTPError(err.__dict__) \n",
    "    return page"
   ]
  },
  {
   "cell_type": "code",
   "execution_count": 8,
   "id": "06832dad-c7e5-4791-a6e6-ceb010dc6551",
   "metadata": {
    "execution": {
     "iopub.execute_input": "2023-03-10T00:56:36.638133Z",
     "iopub.status.busy": "2023-03-10T00:56:36.637128Z",
     "iopub.status.idle": "2023-03-10T00:56:38.920004Z",
     "shell.execute_reply": "2023-03-10T00:56:38.920004Z",
     "shell.execute_reply.started": "2023-03-10T00:56:36.638133Z"
    },
    "tags": []
   },
   "outputs": [],
   "source": [
    "# okay\n",
    "\n",
    "page = fetch_llvm_releases_github_page();"
   ]
  },
  {
   "cell_type": "code",
   "execution_count": null,
   "id": "b0f0b5f4-044c-447d-b44e-a60bec25c8aa",
   "metadata": {},
   "outputs": [],
   "source": []
  },
  {
   "cell_type": "code",
   "execution_count": 9,
   "id": "90d53645-d988-4e1d-b2d4-17c08d123d4f",
   "metadata": {
    "execution": {
     "iopub.execute_input": "2023-03-10T00:56:38.923460Z",
     "iopub.status.busy": "2023-03-10T00:56:38.922447Z",
     "iopub.status.idle": "2023-03-10T00:56:38.931021Z",
     "shell.execute_reply": "2023-03-10T00:56:38.930014Z",
     "shell.execute_reply.started": "2023-03-10T00:56:38.923460Z"
    },
    "tags": []
   },
   "outputs": [],
   "source": [
    "def extract_llvm_release_versions_and_links(html_document: str) -> typing.Dict[str, str]:\n",
    "    \n",
    "    \"\"\"\n",
    "    \n",
    "    html_document: str\n",
    "    returns dict[version: str, uri: str]\n",
    "    \n",
    "    Takes the LLVM releases GitHub HTML page as a string, parses the page to extract released LLVM versions and their cognate\n",
    "    download URIs and returns them paired in a dictionary.\n",
    "    Requires BeautifulSoup for parsing the HTML document.\n",
    "    \n",
    "    Note that this function is delicate and prone to breaks as it depends on very intricate structural details of the HTML ducument.\n",
    "    Any small changes in the structure of the HTML ducument could potentially break the parsing logic. (If GitHub decides to change their page \n",
    "    structures)\n",
    "    \n",
    "    \"\"\"\n",
    "    \n",
    "    if not isinstance(html_document, str):\n",
    "        raise TypeError(\"Incompatible types. Argument must be of string <class 'str'> type.\")\n",
    "        \n",
    "    links: typing.Dict[str, str] = dict()\n",
    "    \n",
    "    soup = BeautifulSoup(html_document, \"html.parser\")\n",
    "    \n",
    "    for section in soup.find_all(\"section\"):\n",
    "        version = section.find(\"h2\", attrs = {\"class\": \"sr-only\"}).text\n",
    "        include_fragment = section.find(\"include-fragment\", attrs = {\"loading\": \"lazy\"})\n",
    "        \n",
    "        if include_fragment:\n",
    "            links[version] = include_fragment.get(\"src\")\n",
    "            \n",
    "        else:\n",
    "            lazy_load = section.find(\"include-fragment\", attrs = {\"class\": \"js-truncated-assets-fragment\"})\n",
    "            links[version] = lazy_load.get(\"data-deferred-src\")\n",
    "    return links"
   ]
  },
  {
   "cell_type": "code",
   "execution_count": 10,
   "id": "1fb8c5f7-82b9-4eb2-ab1c-91c7495b8588",
   "metadata": {
    "execution": {
     "iopub.execute_input": "2023-03-10T00:56:39.795537Z",
     "iopub.status.busy": "2023-03-10T00:56:39.794535Z",
     "iopub.status.idle": "2023-03-10T00:56:39.894820Z",
     "shell.execute_reply": "2023-03-10T00:56:39.893795Z",
     "shell.execute_reply.started": "2023-03-10T00:56:39.795537Z"
    },
    "tags": []
   },
   "outputs": [
    {
     "data": {
      "text/plain": [
       "{'LLVM 16.0.0-rc3': 'https://github.com/llvm/llvm-project/releases/expanded_assets/llvmorg-16.0.0-rc3',\n",
       " 'LLVM 16.0.0-rc2': 'https://github.com/llvm/llvm-project/releases/expanded_assets/llvmorg-16.0.0-rc2',\n",
       " 'LLVM 16.0.0-rc1': 'https://github.com/llvm/llvm-project/releases/expanded_assets/llvmorg-16.0.0-rc1',\n",
       " 'LLVM 15.0.7': 'https://github.com/llvm/llvm-project/releases/expanded_assets/llvmorg-15.0.7',\n",
       " 'LLVM 15.0.6': 'https://github.com/llvm/llvm-project/releases/expanded_assets/llvmorg-15.0.6',\n",
       " 'LLVM 15.0.5': 'https://github.com/llvm/llvm-project/releases/expanded_assets/llvmorg-15.0.5',\n",
       " 'LLVM 15.0.4': 'https://github.com/llvm/llvm-project/releases/expanded_assets/llvmorg-15.0.4',\n",
       " 'LLVM 15.0.3': 'https://github.com/llvm/llvm-project/releases/expanded_assets/llvmorg-15.0.3',\n",
       " 'LLVM 15.0.2': 'https://github.com/llvm/llvm-project/releases/expanded_assets/llvmorg-15.0.2',\n",
       " 'LLVM 15.0.1': 'https://github.com/llvm/llvm-project/releases/expanded_assets/llvmorg-15.0.1'}"
      ]
     },
     "execution_count": 10,
     "metadata": {},
     "output_type": "execute_result"
    }
   ],
   "source": [
    "extract_llvm_release_versions_and_links(page)"
   ]
  },
  {
   "cell_type": "code",
   "execution_count": 24,
   "id": "b57d11ef-7ac2-4374-975d-1fd3fa80f11a",
   "metadata": {
    "execution": {
     "iopub.execute_input": "2023-03-10T01:40:23.430743Z",
     "iopub.status.busy": "2023-03-10T01:40:23.429738Z",
     "iopub.status.idle": "2023-03-10T01:40:23.437730Z",
     "shell.execute_reply": "2023-03-10T01:40:23.437730Z",
     "shell.execute_reply.started": "2023-03-10T01:40:23.430743Z"
    },
    "tags": []
   },
   "outputs": [],
   "source": [
    "async def get_llvm_win64_download_uris_async(version_uris: typing.Dict[str, str]) -> typing.Dict[str, str]:\n",
    "    \n",
    "    \"\"\"\n",
    "    \n",
    "    version_uris: dict[str, str]\n",
    "    returns dict[str, str]\n",
    "    \n",
    "    Receives the LLVM release versions and their download URIs paired in a Python dictionary object.\n",
    "    (returns of a call to extract_llvm_release_versions_and_links)\n",
    "    Returns the LLVM release versions and the download URIs for Windows x86-64 executables (.exes), paired in a \n",
    "    Python dictionary.\n",
    "    If a specifc release does not contain the Windows 64 bit executable, that release will be paired with None.\n",
    "    Uses asynchronous requests to improve performance.\n",
    "    \n",
    "    \"\"\"\n",
    "    \n",
    "    BASE_URL = \"https://github.com\"\n",
    "    win64 = re.compile(r\"/llvm/llvm-project/releases/download/[\\d\\w\\-\\.\\/]*win64.exe\")\n",
    "    result: typing.Dict[str, str] = dict.fromkeys(version_uris.keys(), \"\")\n",
    "    \n",
    "    for (release, uri) in version_uris.items():\n",
    "        req_custom = request.Request(url = uri, method = \"GET\", headers = {\n",
    "            \"User-Agent\": \"Mozilla/5.0 (Windows NT 10.0; Win64; x64; rv:109.0) Gecko/20100101 Firefox/110.0\",\n",
    "            \"Connection\": \"close\"\n",
    "        })\n",
    "    \n",
    "        async with request.urlopen(req_custom) as response:\n",
    "            try:\n",
    "                resp_body = str(await response.read().decode(\"utf8\"))\n",
    "                download_link = re.findall(win64, resp_body)\n",
    "                if download_link:\n",
    "                    result[release] = BASE_URL + download_link[0]\n",
    "                else:\n",
    "                    result[release] = None\n",
    "                \n",
    "            except error.HTTPError as err:\n",
    "                print(err.__dict__())\n",
    "    return await download_uris"
   ]
  },
  {
   "cell_type": "code",
   "execution_count": 25,
   "id": "6e7dc656-7fd8-486c-b38e-0fb2d8af921d",
   "metadata": {
    "execution": {
     "iopub.execute_input": "2023-03-10T01:40:23.954434Z",
     "iopub.status.busy": "2023-03-10T01:40:23.953445Z",
     "iopub.status.idle": "2023-03-10T01:40:24.154984Z",
     "shell.execute_reply": "2023-03-10T01:40:24.154143Z",
     "shell.execute_reply.started": "2023-03-10T01:40:23.954434Z"
    },
    "tags": []
   },
   "outputs": [],
   "source": [
    "links = get_llvm_win64_download_uris_async(extract_llvm_release_versions_and_links(page))"
   ]
  },
  {
   "cell_type": "code",
   "execution_count": 26,
   "id": "ea5d61ec-8004-484b-a1aa-06eb566831bd",
   "metadata": {
    "execution": {
     "iopub.execute_input": "2023-03-10T01:40:25.140859Z",
     "iopub.status.busy": "2023-03-10T01:40:25.139857Z",
     "iopub.status.idle": "2023-03-10T01:40:25.146206Z",
     "shell.execute_reply": "2023-03-10T01:40:25.146206Z",
     "shell.execute_reply.started": "2023-03-10T01:40:25.140859Z"
    },
    "tags": []
   },
   "outputs": [
    {
     "data": {
      "text/plain": [
       "<coroutine object get_llvm_win64_download_uris_async at 0x0000026D74A020C0>"
      ]
     },
     "execution_count": 26,
     "metadata": {},
     "output_type": "execute_result"
    }
   ],
   "source": [
    "links"
   ]
  },
  {
   "cell_type": "code",
   "execution_count": null,
   "id": "30daad6e-912f-4249-a8e0-c91e68324e13",
   "metadata": {},
   "outputs": [],
   "source": []
  }
 ],
 "metadata": {
  "kernelspec": {
   "display_name": "Python 3 (ipykernel)",
   "language": "python",
   "name": "python3"
  },
  "language_info": {
   "codemirror_mode": {
    "name": "ipython",
    "version": 3
   },
   "file_extension": ".py",
   "mimetype": "text/x-python",
   "name": "python",
   "nbconvert_exporter": "python",
   "pygments_lexer": "ipython3",
   "version": "3.11.2"
  }
 },
 "nbformat": 4,
 "nbformat_minor": 5
}
