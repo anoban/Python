{
 "cells": [
  {
   "cell_type": "markdown",
   "id": "69bfce6a-506c-493f-aa9d-82ac87de33ee",
   "metadata": {},
   "source": [
    "--------------------\n",
    "# ***Python for Data Analyses***\n",
    "--------------------\n",
    "### ***Data wrangling with pandas, NumPy & Jupyter***"
   ]
  },
  {
   "cell_type": "markdown",
   "id": "e05dee0d-db8c-4446-8ed4-298054cefea2",
   "metadata": {},
   "source": [
    "## ***Chapter II***"
   ]
  },
  {
   "cell_type": "code",
   "execution_count": 1,
   "id": "065698c3-c250-4f4f-b368-af28a7071f28",
   "metadata": {},
   "outputs": [],
   "source": [
    "import numpy as np"
   ]
  },
  {
   "cell_type": "code",
   "execution_count": 5,
   "id": "86319828-1230-46ac-894c-57ff7ccc885e",
   "metadata": {},
   "outputs": [
    {
     "data": {
      "text/plain": [
       "array([ 0.60371173,  0.40922324,  1.67204901,  0.71069011, -0.64880819,\n",
       "       -0.37220377,  0.60766715, -1.24746745,  0.70827871, -0.55661074])"
      ]
     },
     "execution_count": 5,
     "metadata": {},
     "output_type": "execute_result"
    }
   ],
   "source": [
    "np.random.standard_normal(size = 10)"
   ]
  },
  {
   "cell_type": "code",
   "execution_count": 7,
   "id": "077413bd-b111-447d-a5c0-d2898e8a7080",
   "metadata": {},
   "outputs": [
    {
     "data": {
      "text/plain": [
       "{1: array([-1.61822609]),\n",
       " 2: array([-0.20353706, -0.38549907]),\n",
       " 3: array([ 1.18560615, -0.27516742, -0.07941554]),\n",
       " 4: array([-1.07328229,  0.30706611,  0.82956481, -1.54745349]),\n",
       " 5: array([ 0.63530057, -0.70924946, -1.25525773, -0.12460165, -0.14519488]),\n",
       " 6: array([ 0.30059869,  1.03520142,  1.20492198, -0.42644143,  0.48647672,\n",
       "        -1.14164639]),\n",
       " 7: array([ 1.22389285,  1.06408868, -0.45280811,  0.11952981,  0.00302276,\n",
       "        -0.08540297, -0.82319869]),\n",
       " 8: array([ 0.05245663, -0.99016098,  1.60698835,  0.22622366, -2.06434229,\n",
       "        -0.39160516,  0.39486501,  1.73203158]),\n",
       " 9: array([-1.00110251, -1.09403169,  0.76016815, -0.22740406, -0.72293102,\n",
       "        -0.39492419, -1.27523272,  1.12824811, -1.05020049])}"
      ]
     },
     "execution_count": 7,
     "metadata": {},
     "output_type": "execute_result"
    }
   ],
   "source": [
    "{i : np.random.standard_normal(size = i) for i in range(1, 10)}"
   ]
  },
  {
   "cell_type": "code",
   "execution_count": 9,
   "id": "0f38ea16-1604-4380-93ac-53b584f6e256",
   "metadata": {},
   "outputs": [],
   "source": [
    "a, b, c, d, e, *_ = list(range(0, 100))"
   ]
  },
  {
   "cell_type": "code",
   "execution_count": 10,
   "id": "6e99d027-4327-434b-a433-3fb06c301bfb",
   "metadata": {},
   "outputs": [
    {
     "data": {
      "text/plain": [
       "(0, 1)"
      ]
     },
     "execution_count": 10,
     "metadata": {},
     "output_type": "execute_result"
    }
   ],
   "source": [
    "a, b"
   ]
  },
  {
   "cell_type": "code",
   "execution_count": 11,
   "id": "4793ef9b-ba91-4217-8a6d-b6d961d7a3c6",
   "metadata": {},
   "outputs": [
    {
     "name": "stdout",
     "output_type": "stream",
     "text": [
      "5 6 7 8 9 10 11 12 13 14 15 16 17 18 19 20 21 22 23 24 25 26 27 28 29 30 31 32 33 34 35 36 37 38 39 40 41 42 43 44 45 46 47 48 49 50 51 52 53 54 55 56 57 58 59 60 61 62 63 64 65 66 67 68 69 70 71 72 73 74 75 76 77 78 79 80 81 82 83 84 85 86 87 88 89 90 91 92 93 94 95 96 97 98 99\n"
     ]
    }
   ],
   "source": [
    "print(*_)"
   ]
  },
  {
   "cell_type": "code",
   "execution_count": 26,
   "id": "04a16a82-205d-4bb6-a045-baeaa8a6d14c",
   "metadata": {},
   "outputs": [
    {
     "name": "stdout",
     "output_type": "stream",
     "text": [
      "15 25 35 45 55 65 75 85 95 "
     ]
    }
   ],
   "source": [
    "for i in range(100):\n",
    "    if i < 10:\n",
    "        # print(\"too smol\", end = \" \")\n",
    "        continue\n",
    "    elif i >= 10 and i % 2 == 0:\n",
    "        continue\n",
    "    elif i >= 10 and i % 5 == 0:\n",
    "        print(i, end = \" \")\n",
    "    else:\n",
    "        # print(\"Breaking out\")\n",
    "        continue"
   ]
  },
  {
   "cell_type": "code",
   "execution_count": 28,
   "id": "b6bc0e82-6d4c-430a-aa87-9a5f85ab59eb",
   "metadata": {},
   "outputs": [
    {
     "data": {
      "text/plain": [
       "False"
      ]
     },
     "execution_count": 28,
     "metadata": {},
     "output_type": "execute_result"
    }
   ],
   "source": [
    "89 > 90 < 2"
   ]
  },
  {
   "cell_type": "code",
   "execution_count": 29,
   "id": "6e4d8530-5fd0-41b5-93a6-cf8147d6b363",
   "metadata": {},
   "outputs": [
    {
     "data": {
      "text/plain": [
       "True"
      ]
     },
     "execution_count": 29,
     "metadata": {},
     "output_type": "execute_result"
    }
   ],
   "source": [
    "isinstance(10 < 65, bool)"
   ]
  },
  {
   "cell_type": "code",
   "execution_count": null,
   "id": "263c9d7d-c26e-4597-85d0-49563a6ae2ae",
   "metadata": {},
   "outputs": [],
   "source": []
  }
 ],
 "metadata": {
  "kernelspec": {
   "display_name": "Python 3 (ipykernel)",
   "language": "python",
   "name": "python3"
  },
  "language_info": {
   "codemirror_mode": {
    "name": "ipython",
    "version": 3
   },
   "file_extension": ".py",
   "mimetype": "text/x-python",
   "name": "python",
   "nbconvert_exporter": "python",
   "pygments_lexer": "ipython3",
   "version": "3.11.1"
  }
 },
 "nbformat": 4,
 "nbformat_minor": 5
}
