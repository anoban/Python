{
 "cells": [
  {
   "cell_type": "code",
   "execution_count": 1,
   "id": "1f1f5218-a36f-4680-9b40-d660617b71dc",
   "metadata": {
    "execution": {
     "iopub.execute_input": "2023-01-23T01:34:51.230365Z",
     "iopub.status.busy": "2023-01-23T01:34:51.230365Z",
     "iopub.status.idle": "2023-01-23T01:34:51.299337Z",
     "shell.execute_reply": "2023-01-23T01:34:51.299337Z",
     "shell.execute_reply.started": "2023-01-23T01:34:51.230365Z"
    }
   },
   "outputs": [],
   "source": [
    "from urllib import request\n",
    "from bs4 import BeautifulSoup"
   ]
  },
  {
   "cell_type": "code",
   "execution_count": 2,
   "id": "3e3781d1-888b-45fe-8f9d-4868d9145adc",
   "metadata": {
    "execution": {
     "iopub.execute_input": "2023-01-23T01:35:04.116166Z",
     "iopub.status.busy": "2023-01-23T01:35:04.116166Z",
     "iopub.status.idle": "2023-01-23T01:35:04.120135Z",
     "shell.execute_reply": "2023-01-23T01:35:04.120135Z",
     "shell.execute_reply.started": "2023-01-23T01:35:04.116166Z"
    }
   },
   "outputs": [],
   "source": [
    "URL = r\"https://testprepbooks.com/ielts/\""
   ]
  },
  {
   "cell_type": "code",
   "execution_count": 4,
   "id": "8af859a3-544d-4de7-9c06-05b0d8fe536e",
   "metadata": {
    "execution": {
     "iopub.execute_input": "2023-01-23T01:35:54.048563Z",
     "iopub.status.busy": "2023-01-23T01:35:54.048563Z",
     "iopub.status.idle": "2023-01-23T01:35:57.393114Z",
     "shell.execute_reply": "2023-01-23T01:35:57.393114Z",
     "shell.execute_reply.started": "2023-01-23T01:35:54.048563Z"
    },
    "tags": []
   },
   "outputs": [],
   "source": [
    "with request.urlopen(URL) as req:\n",
    "    response = req.read()"
   ]
  },
  {
   "cell_type": "code",
   "execution_count": 6,
   "id": "8d083658-f6ce-4133-8d04-409eee057afd",
   "metadata": {
    "execution": {
     "iopub.execute_input": "2023-01-23T01:43:20.108840Z",
     "iopub.status.busy": "2023-01-23T01:43:20.108840Z",
     "iopub.status.idle": "2023-01-23T01:43:20.112268Z",
     "shell.execute_reply": "2023-01-23T01:43:20.112268Z",
     "shell.execute_reply.started": "2023-01-23T01:43:20.108840Z"
    },
    "tags": []
   },
   "outputs": [],
   "source": [
    "response;"
   ]
  },
  {
   "cell_type": "code",
   "execution_count": null,
   "id": "333520ea-b218-42c9-b5c2-8aedb2475c83",
   "metadata": {},
   "outputs": [],
   "source": []
  }
 ],
 "metadata": {
  "kernelspec": {
   "display_name": "Python 3 (ipykernel)",
   "language": "python",
   "name": "python3"
  },
  "language_info": {
   "codemirror_mode": {
    "name": "ipython",
    "version": 3
   },
   "file_extension": ".py",
   "mimetype": "text/x-python",
   "name": "python",
   "nbconvert_exporter": "python",
   "pygments_lexer": "ipython3",
   "version": "3.11.1"
  }
 },
 "nbformat": 4,
 "nbformat_minor": 5
}
