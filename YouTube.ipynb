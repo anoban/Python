{
 "cells": [
  {
   "cell_type": "code",
   "execution_count": 20,
   "id": "8ca98396-7cb9-44b1-8b6c-e7c83756f4c4",
   "metadata": {},
   "outputs": [],
   "source": [
    "from urllib import request\n",
    "from bs4 import BeautifulSoup\n",
    "import sys\n",
    "import os\n",
    "import requests"
   ]
  },
  {
   "cell_type": "code",
   "execution_count": 35,
   "id": "d7c696ab-1a57-408e-af78-9ef485d0ea7c",
   "metadata": {},
   "outputs": [],
   "source": [
    "GIRLS_HOME = r\"http://wallpaperswide.com/girls-desktop-wallpapers.html\"\n",
    "BASE_URL = r\"http://wallpaperswide.com\""
   ]
  },
  {
   "cell_type": "code",
   "execution_count": null,
   "id": "bc298abd-4859-4ba3-b2b6-eea7da540d3a",
   "metadata": {},
   "outputs": [],
   "source": [
    "f\"http://wallpaperswide.com/girls-desktop-wallpapers/page/{page_no}\""
   ]
  },
  {
   "cell_type": "code",
   "execution_count": 63,
   "id": "c92289a1-1cfe-4d68-85a5-17403762a25e",
   "metadata": {},
   "outputs": [
    {
     "name": "stdout",
     "output_type": "stream",
     "text": [
      "200\n"
     ]
    }
   ],
   "source": [
    "resp = request.urlopen(GIRLS_HOME)\n",
    "print(resp.status)\n",
    "soup = BeautifulSoup(resp, \"html.parser\")\n",
    "\n",
    "divs = soup.find_all(\"div\", attrs = {\"class\": \"mini-hud\", \"id\": \"huddown\"})"
   ]
  },
  {
   "cell_type": "code",
   "execution_count": 57,
   "id": "187cc7fa-6e9e-4b29-b316-6fb7816468d8",
   "metadata": {},
   "outputs": [
    {
     "data": {
      "text/plain": [
       "['http://wallpaperswide.com/wallite/lis.html',\n",
       " 'http://wallpaperswide.com/wallite/shhh_woman.html',\n",
       " 'http://wallpaperswide.com/wallite/beautiful_girls_19.html',\n",
       " 'http://wallpaperswide.com/wallite/woman_eyes.html',\n",
       " 'http://wallpaperswide.com/wallite/beautiful_girls_40.html',\n",
       " 'http://wallpaperswide.com/wallite/good_morning_13.html',\n",
       " 'http://wallpaperswide.com/wallite/fashion_model_in_a_beautiful_red_dress.html',\n",
       " 'http://wallpaperswide.com/wallite/beauty_11.html',\n",
       " 'http://wallpaperswide.com/wallite/ariel_girl.html',\n",
       " 'http://wallpaperswide.com/wallite/greek_goddess_style_dress_woman.html',\n",
       " 'http://wallpaperswide.com/wallite/woman_red_lips_shape_pillows_bw_striped_walls_room.html',\n",
       " 'http://wallpaperswide.com/wallite/summer_selfie.html',\n",
       " 'http://wallpaperswide.com/wallite/girl_night_out.html',\n",
       " 'http://wallpaperswide.com/wallite/hran.html',\n",
       " 'http://wallpaperswide.com/wallite/beautiful_girl_6.html',\n",
       " 'http://wallpaperswide.com/wallite/swimming_in_colors.html',\n",
       " 'http://wallpaperswide.com/wallite/princess_in_a_carriage_real_life.html',\n",
       " 'http://wallpaperswide.com/wallite/sleeping_beauty.html']"
      ]
     },
     "execution_count": 57,
     "metadata": {},
     "output_type": "execute_result"
    }
   ],
   "source": [
    "[div.get(\"onclick\").replace(\"prevframe_show('\", \"\").replace(\"');\", \"\") for div in divs]"
   ]
  },
  {
   "cell_type": "code",
   "execution_count": null,
   "id": "010f77a1-6935-4238-ac3e-2d0dbd0c0295",
   "metadata": {},
   "outputs": [],
   "source": [
    "# there are totally 103 pages\n",
    "# hard coding the first page\n",
    "\n",
    "INDIVIDUAL_PAGE_URLS = list()\n",
    "IMAGE_URIS = list()\n",
    "\n",
    "URLS = [\"http://wallpaperswide.com/girls-desktop-wallpapers\"]\n",
    "\n",
    "for page_no in range(2, 104, 1):\n",
    "    URLS.append(f\"http://wallpaperswide.com/girls-desktop-wallpapers/page/{page_no}\")\n",
    "\n",
    "URLS\n",
    "\n",
    "for URL in URLS:\n",
    "    with request.urlopen(URL) as connection:\n",
    "        if connection.status == 200:\n",
    "            page = connection.read()\n",
    "            soup = BeautifulSoup(page, \"html.parser\")\n",
    "            divs = soup.find_all(\"div\", attrs = {\"class\": \"mini-hud\", \"id\": \"huddown\"})\n",
    "            INDIVIDUAL_PAGE_URLS += [div.get(\"onclick\").replace(\"prevframe_show('\", \"\").replace(\"');\", \"\") for div in divs]\n",
    "\n",
    "INDIVIDUAL_PAGE_URLS"
   ]
  },
  {
   "cell_type": "code",
   "execution_count": 65,
   "id": "2894f630-c1ad-4507-8618-904f2003a1b7",
   "metadata": {},
   "outputs": [],
   "source": [
    "# consider only 16:10 resolution\n",
    "# resolutions to consider 2880x1800, 3840x2400, 5120x3200, 7680x4800.\n",
    "\n",
    "with request.urlopen(r\"http://wallpaperswide.com/lis-wallpapers.html\") as connection:\n",
    "    if connection.status == 200:\n",
    "        ind_page = connection.read()\n",
    "    \n",
    "soup = BeautifulSoup(ind_page, \"html.parser\")"
   ]
  },
  {
   "cell_type": "code",
   "execution_count": 75,
   "id": "00367e40-6cb9-4f9f-bdfe-d9acb8a72405",
   "metadata": {},
   "outputs": [
    {
     "data": {
      "text/plain": [
       "'/download/lis-wallpaper-3840x2400.jpg'"
      ]
     },
     "execution_count": 75,
     "metadata": {},
     "output_type": "execute_result"
    }
   ],
   "source": [
    "resolutions = [\"2880x1800\", \"3840x2400\", \"5120x3200\", \"7680x4800\"]\n",
    "FILE_URIS = soup.find_all(\"a\", attrs = {\"target\": \"_self\"})\n",
    "\n",
    "SELECTED = list()\n",
    "\n",
    "for resolution in resolutions:\n",
    "    for uri in FILE_URIS:\n",
    "        if resolution == uri.text:\n",
    "            SELECTED.append(uri.get(\"href\"))\n",
    "            \n",
    "SELECTED[-1]"
   ]
  },
  {
   "cell_type": "code",
   "execution_count": 77,
   "id": "d8f3ce16-322b-4425-9f44-c699988963bc",
   "metadata": {},
   "outputs": [
    {
     "data": {
      "text/plain": [
       "['http://wallpaperswide.com/wallite/lis.html',\n",
       " 'http://wallpaperswide.com/wallite/shhh_woman.html',\n",
       " 'http://wallpaperswide.com/wallite/beautiful_girls_19.html',\n",
       " 'http://wallpaperswide.com/wallite/woman_eyes.html',\n",
       " 'http://wallpaperswide.com/wallite/beautiful_girls_40.html',\n",
       " 'http://wallpaperswide.com/wallite/good_morning_13.html',\n",
       " 'http://wallpaperswide.com/wallite/fashion_model_in_a_beautiful_red_dress.html',\n",
       " 'http://wallpaperswide.com/wallite/beauty_11.html',\n",
       " 'http://wallpaperswide.com/wallite/ariel_girl.html',\n",
       " 'http://wallpaperswide.com/wallite/greek_goddess_style_dress_woman.html']"
      ]
     },
     "execution_count": 77,
     "metadata": {},
     "output_type": "execute_result"
    }
   ],
   "source": [
    "INDIVIDUAL_PAGE_URLS[:10]"
   ]
  },
  {
   "cell_type": "code",
   "execution_count": 79,
   "id": "a97e7ca8-09a2-42ab-aa69-30d5410ef699",
   "metadata": {},
   "outputs": [],
   "source": [
    "resolutions = [\"2880x1800\", \"3840x2400\", \"5120x3200\", \"7680x4800\"]\n",
    "MAX_RES_URIS_16x10 = list()\n",
    "\n",
    "\n",
    "for URI in INDIVIDUAL_PAGE_URLS:\n",
    "    with request.urlopen(URI) as connection:\n",
    "        if connection.status == 200:\n",
    "            ind_page = connection.read()\n",
    "    \n",
    "    soup = BeautifulSoup(ind_page, \"html.parser\")\n",
    "    FILE_URIS = soup.find_all(\"a\", attrs = {\"target\": \"_self\"})\n",
    "\n",
    "    SELECTED = list()\n",
    "\n",
    "    for resolution in resolutions:\n",
    "        for uri in FILE_URIS:\n",
    "            if resolution == uri.text:\n",
    "                SELECTED.append(uri.get(\"href\"))\n",
    "    \n",
    "    if len(SELECTED) == 0:\n",
    "        continue\n",
    "    elif len(SELECTED) == 1:\n",
    "        MAX_RES_URIS_16x10.append(SELECTED[0])\n",
    "    else:\n",
    "        MAX_RES_URIS_16x10.append(SELECTED[-1])"
   ]
  },
  {
   "cell_type": "code",
   "execution_count": 82,
   "id": "79afb499-088d-40b3-8d01-92d32ea4c975",
   "metadata": {},
   "outputs": [
    {
     "data": {
      "text/plain": [
       "749"
      ]
     },
     "execution_count": 82,
     "metadata": {},
     "output_type": "execute_result"
    }
   ],
   "source": [
    "len(MAX_RES_URIS_16x10)"
   ]
  },
  {
   "cell_type": "code",
   "execution_count": 83,
   "id": "413f148b-ccb5-47e9-a9ae-6a79e1666360",
   "metadata": {},
   "outputs": [
    {
     "data": {
      "text/plain": [
       "'/download/shhh_woman-wallpaper-2880x1800.jpg'"
      ]
     },
     "execution_count": 83,
     "metadata": {},
     "output_type": "execute_result"
    }
   ],
   "source": [
    "MAX_RES_URIS_16x10[0]"
   ]
  },
  {
   "cell_type": "code",
   "execution_count": 86,
   "id": "5d71cf50-042f-4e71-8377-a412719cdad1",
   "metadata": {},
   "outputs": [],
   "source": [
    "with open(\"images.txt\", \"w+\") as write_file:\n",
    "    for line in MAX_RES_URIS_16x10:\n",
    "        write_file.writelines(r\"http://wallpaperswide.com\" + line + \"\\n\")"
   ]
  },
  {
   "cell_type": "code",
   "execution_count": null,
   "id": "e76374a3-adc2-4f88-b775-a94c18393225",
   "metadata": {},
   "outputs": [],
   "source": []
  }
 ],
 "metadata": {
  "kernelspec": {
   "display_name": "Python 3 (ipykernel)",
   "language": "python",
   "name": "python3"
  },
  "language_info": {
   "codemirror_mode": {
    "name": "ipython",
    "version": 3
   },
   "file_extension": ".py",
   "mimetype": "text/x-python",
   "name": "python",
   "nbconvert_exporter": "python",
   "pygments_lexer": "ipython3",
   "version": "3.11.1"
  }
 },
 "nbformat": 4,
 "nbformat_minor": 5
}
